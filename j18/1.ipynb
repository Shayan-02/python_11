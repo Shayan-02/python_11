{
 "cells": [
  {
   "cell_type": "code",
   "execution_count": 16,
   "metadata": {},
   "outputs": [
    {
     "name": "stdout",
     "output_type": "stream",
     "text": [
      "day1    420\n",
      "day2    380\n",
      "dtype: int64\n"
     ]
    }
   ],
   "source": [
    "import pandas as pd\n",
    "import numpy as np\n",
    "\n",
    "a = [1, 7, 2]\n",
    "a.append(6)\n",
    "b = np.array(a)\n",
    "c = \"hello world\", \"ali\"\n",
    "d = {\"name\" : [\"ali\", \"reza\", \"mohammad\"]}\n",
    "myvar = pd.Series(b)\n",
    "myvar2 = pd.Series(c, index=[1, 2])\n",
    "myvar3 = pd.Series(d)\n",
    "\n",
    "calories = {\"day1\": 420, \"day2\": 380, \"day3\": 390}\n",
    "\n",
    "myvar4 = pd.Series(calories, index=[\"day1\", \"day2\"])\n",
    "\n",
    "\n",
    "print(myvar4)"
   ]
  }
 ],
 "metadata": {
  "kernelspec": {
   "display_name": "Python 3",
   "language": "python",
   "name": "python3"
  },
  "language_info": {
   "codemirror_mode": {
    "name": "ipython",
    "version": 3
   },
   "file_extension": ".py",
   "mimetype": "text/x-python",
   "name": "python",
   "nbconvert_exporter": "python",
   "pygments_lexer": "ipython3",
   "version": "3.12.2"
  }
 },
 "nbformat": 4,
 "nbformat_minor": 2
}
