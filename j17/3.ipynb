{
 "cells": [
  {
   "cell_type": "code",
   "execution_count": 14,
   "metadata": {},
   "outputs": [
    {
     "name": "stdout",
     "output_type": "stream",
     "text": [
      "<class 'pandas.core.frame.DataFrame'>\n",
      "RangeIndex: 6 entries, 0 to 5\n",
      "Data columns (total 4 columns):\n",
      " #   Column  Non-Null Count  Dtype  \n",
      "---  ------  --------------  -----  \n",
      " 0   name    6 non-null      object \n",
      " 1   age     5 non-null      float64\n",
      " 2   degree  6 non-null      object \n",
      " 3   gpa     5 non-null      float64\n",
      "dtypes: float64(2), object(2)\n",
      "memory usage: 324.0+ bytes\n"
     ]
    }
   ],
   "source": [
    "import numpy as np\n",
    "import pandas as ps\n",
    "\n",
    "student = {\n",
    "    \"name\": [\"ali\", \"mohsen\", \"bahman\", \"amir\", \"amin\", \"taha\"],\n",
    "        # \"last name\": [\n",
    "        #     \"rezaee\",\n",
    "        #     \"mohammadi\",\n",
    "        #     \"asghari\",\n",
    "        #     \"barzegar\",\n",
    "        #     \"shojaee\",\n",
    "        #     \"shirini\",\n",
    "        # ],\n",
    "    \"age\": [19, 20, np.nan, 25, 23, 2],\n",
    "    \"degree\": [\"k\", \"d\", \"l\", \"k\", \"k\", \"d\"],\n",
    "    \"gpa\": [np.nan, 4.6, 2.4, 4.8, 5, 3],\n",
    "}\n",
    "\n",
    "a = ps.DataFrame(student)\n",
    "a.loc[[1, 3, 5]]\n",
    "a.info()"
   ]
  }
 ],
 "metadata": {
  "kernelspec": {
   "display_name": "Python 3",
   "language": "python",
   "name": "python3"
  },
  "language_info": {
   "codemirror_mode": {
    "name": "ipython",
    "version": 3
   },
   "file_extension": ".py",
   "mimetype": "text/x-python",
   "name": "python",
   "nbconvert_exporter": "python",
   "pygments_lexer": "ipython3",
   "version": "3.12.2"
  }
 },
 "nbformat": 4,
 "nbformat_minor": 2
}
