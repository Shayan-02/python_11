{
 "cells": [
  {
   "cell_type": "code",
   "execution_count": 3,
   "metadata": {},
   "outputs": [
    {
     "name": "stdout",
     "output_type": "stream",
     "text": [
      "dict_items([(1, {'name': 'ali', 'lname': 'rezaee', 'scores': {'math': 18, 'science': 17, 'geometry': 15, 'sport': 20}}), (14, {'name': 'taha', 'lname': 'sartipi', 'scores': {'math': 20, 'science': 18, 'geometry': 16, 'sport': 20}})])\n"
     ]
    }
   ],
   "source": [
    "s = {\n",
    "    1: {\n",
    "        \"name\": \"ali\",\n",
    "        \"lname\": \"rezaee\",\n",
    "        \"scores\": {\"math\": 18, \"science\": 17, \"geometry\": 15, \"sport\": 20},\n",
    "    },\n",
    "    14: {\n",
    "        \"name\": \"taha\",\n",
    "        \"lname\": \"sartipi\",\n",
    "        \"scores\": {\"math\": 20, \"science\": 18, \"geometry\": 16, \"sport\": 20},\n",
    "    },\n",
    "}\n",
    "print(s.items())"
   ]
  },
  {
   "cell_type": "code",
   "execution_count": 6,
   "metadata": {},
   "outputs": [
    {
     "name": "stdout",
     "output_type": "stream",
     "text": [
      "(1, {'name': 'ali', 'lname': 'rezaee', 'scores': {'math': 18, 'science': 17, 'geometry': 15, 'sport': 20}})\n",
      "(14, {'name': 'taha', 'lname': 'sartipi', 'scores': {'math': 20, 'science': 18, 'geometry': 16, 'sport': 20}})\n"
     ]
    }
   ],
   "source": [
    "for i in s.items():\n",
    "    print(i)"
   ]
  },
  {
   "cell_type": "code",
   "execution_count": 7,
   "metadata": {},
   "outputs": [
    {
     "data": {
      "text/html": [
       "<div>\n",
       "<style scoped>\n",
       "    .dataframe tbody tr th:only-of-type {\n",
       "        vertical-align: middle;\n",
       "    }\n",
       "\n",
       "    .dataframe tbody tr th {\n",
       "        vertical-align: top;\n",
       "    }\n",
       "\n",
       "    .dataframe thead th {\n",
       "        text-align: right;\n",
       "    }\n",
       "</style>\n",
       "<table border=\"1\" class=\"dataframe\">\n",
       "  <thead>\n",
       "    <tr style=\"text-align: right;\">\n",
       "      <th></th>\n",
       "      <th>1</th>\n",
       "      <th>14</th>\n",
       "    </tr>\n",
       "  </thead>\n",
       "  <tbody>\n",
       "    <tr>\n",
       "      <th>name</th>\n",
       "      <td>ali</td>\n",
       "      <td>taha</td>\n",
       "    </tr>\n",
       "    <tr>\n",
       "      <th>lname</th>\n",
       "      <td>rezaee</td>\n",
       "      <td>sartipi</td>\n",
       "    </tr>\n",
       "    <tr>\n",
       "      <th>scores</th>\n",
       "      <td>{'math': 18, 'science': 17, 'geometry': 15, 's...</td>\n",
       "      <td>{'math': 20, 'science': 18, 'geometry': 16, 's...</td>\n",
       "    </tr>\n",
       "  </tbody>\n",
       "</table>\n",
       "</div>"
      ],
      "text/plain": [
       "                                                       1   \\\n",
       "name                                                  ali   \n",
       "lname                                              rezaee   \n",
       "scores  {'math': 18, 'science': 17, 'geometry': 15, 's...   \n",
       "\n",
       "                                                       14  \n",
       "name                                                 taha  \n",
       "lname                                             sartipi  \n",
       "scores  {'math': 20, 'science': 18, 'geometry': 16, 's...  "
      ]
     },
     "execution_count": 7,
     "metadata": {},
     "output_type": "execute_result"
    }
   ],
   "source": [
    "import pandas as pd\n",
    "df = pd.DataFrame(s)\n",
    "df"
   ]
  }
 ],
 "metadata": {
  "kernelspec": {
   "display_name": "Python 3",
   "language": "python",
   "name": "python3"
  },
  "language_info": {
   "codemirror_mode": {
    "name": "ipython",
    "version": 3
   },
   "file_extension": ".py",
   "mimetype": "text/x-python",
   "name": "python",
   "nbconvert_exporter": "python",
   "pygments_lexer": "ipython3",
   "version": "3.12.2"
  }
 },
 "nbformat": 4,
 "nbformat_minor": 2
}
