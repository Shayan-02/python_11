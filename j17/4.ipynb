{
 "cells": [
  {
   "cell_type": "code",
   "execution_count": 3,
   "metadata": {},
   "outputs": [
    {
     "name": "stdout",
     "output_type": "stream",
     "text": [
      "ali rezaee\n"
     ]
    }
   ],
   "source": [
    "def sums(a: float, b: float):\n",
    "    \"\"\"\n",
    "    Get 2 numbers and plus.\n",
    "\n",
    "    Param:\n",
    "        a (float): first number that input from user.\n",
    "        b (float): second number that input from user.\n",
    "    \n",
    "    output:\n",
    "        result (float): sum of a and b\n",
    "    \"\"\"\n",
    "    \n",
    "    result = a + b\n",
    "    print(result)\n",
    "\n",
    "sums(\"ali\", \" rezaee\")"
   ]
  }
 ],
 "metadata": {
  "kernelspec": {
   "display_name": "Python 3",
   "language": "python",
   "name": "python3"
  },
  "language_info": {
   "codemirror_mode": {
    "name": "ipython",
    "version": 3
   },
   "file_extension": ".py",
   "mimetype": "text/x-python",
   "name": "python",
   "nbconvert_exporter": "python",
   "pygments_lexer": "ipython3",
   "version": "3.12.2"
  }
 },
 "nbformat": 4,
 "nbformat_minor": 2
}
