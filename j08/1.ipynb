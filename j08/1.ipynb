{
 "cells": [
  {
   "cell_type": "code",
   "execution_count": 18,
   "metadata": {},
   "outputs": [
    {
     "data": {
      "text/plain": [
       "['zahra', 'reza', 'mohammad', 'ali', 'ali', 1, 2, 3, 4, 5, 7, 43, 56, 76]"
      ]
     },
     "execution_count": 18,
     "metadata": {},
     "output_type": "execute_result"
    }
   ],
   "source": [
    "a = [1, 2, 3, 4, 5, 56, 76, 7,43]\n",
    "b = [\"ali\", \"zahra\", \"reza\", \"ali\"]\n",
    "a.reverse()\n",
    "a.sort(reverse=True)\n",
    "a.sort()\n",
    "b.sort(reverse=True)\n",
    "b.insert(2, \"mohammad\")\n",
    "a\n",
    "b\n",
    "b.count(\"ali\")\n",
    "b.extend(a)\n",
    "b"
   ]
  },
  {
   "cell_type": "code",
   "execution_count": 35,
   "metadata": {},
   "outputs": [
    {
     "name": "stdout",
     "output_type": "stream",
     "text": [
      "1 2 3 \n",
      "4 5 6 \n",
      "7 8 9 \n"
     ]
    },
    {
     "data": {
      "text/plain": [
       "[1, 2, 3, 4, 5, 6, 7, 8, 9]"
      ]
     },
     "execution_count": 35,
     "metadata": {},
     "output_type": "execute_result"
    }
   ],
   "source": [
    "c = [1, 2, 3, 4, 5, 6, 7, 8, 9]\n",
    "for i in range(1, 10):\n",
    "    print(c[i-1], end=\" \")\n",
    "    if i % 3 == 0:\n",
    "        print()\n",
    "\n",
    "    \n",
    "    \n",
    "c"
   ]
  },
  {
   "cell_type": "code",
   "execution_count": 54,
   "metadata": {},
   "outputs": [
    {
     "data": {
      "text/plain": [
       "{1: 'name', 2: 'age', 3: 'tel'}"
      ]
     },
     "execution_count": 54,
     "metadata": {},
     "output_type": "execute_result"
    }
   ],
   "source": [
    "a = {1: \"name\", 2 : \"age\", 3 : \"tel\"}\n",
    "a.keys()\n",
    "a.values()\n",
    "a.items()\n",
    "a.get(2)\n",
    "b = a.copy()\n",
    "b\n",
    "b[\"car\"] = \"benz\"\n",
    "b.update({\"car\":  \"bmw\"})\n",
    "b\n",
    "b.popitem()\n",
    "b"
   ]
  },
  {
   "cell_type": "code",
   "execution_count": 68,
   "metadata": {},
   "outputs": [
    {
     "data": {
      "text/plain": [
       "{1, 2, 3, 4, 5, 6, 'ali', 'mohaammad', 'reza'}"
      ]
     },
     "execution_count": 68,
     "metadata": {},
     "output_type": "execute_result"
    }
   ],
   "source": [
    "e = {1, 2, 3, 4, 5, 1 , 2, 4 , 5, 6, 1 ,2, 2,1 , 1, 1}\n",
    "f = {\"ali\", \"reza\", \"mohaammad\"}\n",
    "\n",
    "e.__len__()\n",
    "f.union(e)"
   ]
  },
  {
   "cell_type": "code",
   "execution_count": 70,
   "metadata": {},
   "outputs": [
    {
     "data": {
      "text/plain": [
       "('ali', 'reza', 'saeed')"
      ]
     },
     "execution_count": 70,
     "metadata": {},
     "output_type": "execute_result"
    }
   ],
   "source": [
    "t = \"ali\", \"reza\", \"mohammad\"\n",
    "lst = list(t)\n",
    "lst[2] = \"saeed\"\n",
    "t = tuple(lst)\n",
    "t"
   ]
  },
  {
   "cell_type": "code",
   "execution_count": 80,
   "metadata": {},
   "outputs": [
    {
     "name": "stdout",
     "output_type": "stream",
     "text": [
      "apple\n",
      "['banana', 'cherry', 'orange', 'tomato']\n",
      "potato\n"
     ]
    }
   ],
   "source": [
    "fruits = (\"apple\", \"banana\", \"cherry\", \"orange\", \"tomato\", \"potato\")\n",
    "\n",
    "(green, *yellow, red) = fruits\n",
    "\n",
    "print(green)\n",
    "print(yellow)\n",
    "print(red)"
   ]
  },
  {
   "cell_type": "code",
   "execution_count": 81,
   "metadata": {},
   "outputs": [
    {
     "ename": "NameError",
     "evalue": "name 'max1' is not defined",
     "output_type": "error",
     "traceback": [
      "\u001b[1;31m---------------------------------------------------------------------------\u001b[0m",
      "\u001b[1;31mNameError\u001b[0m                                 Traceback (most recent call last)",
      "Cell \u001b[1;32mIn[81], line 7\u001b[0m\n\u001b[0;32m      5\u001b[0m         max1 \u001b[38;5;241m=\u001b[39m a\n\u001b[0;32m      6\u001b[0m         \u001b[38;5;28mprint\u001b[39m(max1)\n\u001b[1;32m----> 7\u001b[0m \u001b[38;5;28mprint\u001b[39m(\u001b[43mmax1\u001b[49m)\n\u001b[0;32m      8\u001b[0m \u001b[38;5;28;01mfor\u001b[39;00m i \u001b[38;5;129;01min\u001b[39;00m \u001b[38;5;28mrange\u001b[39m(\u001b[38;5;241m1\u001b[39m, \u001b[38;5;241m11\u001b[39m):\n\u001b[0;32m      9\u001b[0m     a \u001b[38;5;241m=\u001b[39m \u001b[38;5;28mint\u001b[39m(\u001b[38;5;28minput\u001b[39m(\u001b[38;5;124mf\u001b[39m\u001b[38;5;124m\"\u001b[39m\u001b[38;5;124menter number\u001b[39m\u001b[38;5;132;01m{\u001b[39;00mi\u001b[38;5;132;01m}\u001b[39;00m\u001b[38;5;124m: \u001b[39m\u001b[38;5;124m\"\u001b[39m))\n",
      "\u001b[1;31mNameError\u001b[0m: name 'max1' is not defined"
     ]
    }
   ],
   "source": [
    "def maxi(a):\n",
    "    global max1\n",
    "    max1 = 0\n",
    "    if a > max1:\n",
    "        max1 = a\n",
    "        print(max1)\n",
    "print(max1)\n",
    "for i in range(1, 11):\n",
    "    a = int(input(f\"enter number{i}: \"))\n",
    "    maxi(a)"
   ]
  },
  {
   "cell_type": "code",
   "execution_count": null,
   "metadata": {},
   "outputs": [],
   "source": []
  }
 ],
 "metadata": {
  "kernelspec": {
   "display_name": "Python 3",
   "language": "python",
   "name": "python3"
  },
  "language_info": {
   "codemirror_mode": {
    "name": "ipython",
    "version": 3
   },
   "file_extension": ".py",
   "mimetype": "text/x-python",
   "name": "python",
   "nbconvert_exporter": "python",
   "pygments_lexer": "ipython3",
   "version": "3.12.0"
  }
 },
 "nbformat": 4,
 "nbformat_minor": 2
}
