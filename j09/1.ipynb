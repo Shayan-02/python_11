{
 "cells": [
  {
   "cell_type": "code",
   "execution_count": 4,
   "id": "initial_id",
   "metadata": {
    "collapsed": true,
    "ExecuteTime": {
     "end_time": "2024-01-20T09:27:59.769795200Z",
     "start_time": "2024-01-20T09:27:59.072802500Z"
    }
   },
   "outputs": [],
   "source": [
    "import numpy as np\n",
    "import random as r"
   ]
  },
  {
   "cell_type": "code",
   "execution_count": 5,
   "id": "72730b19dd0bc586",
   "metadata": {
    "collapsed": false,
    "ExecuteTime": {
     "end_time": "2024-01-20T09:28:01.988172300Z",
     "start_time": "2024-01-20T09:28:01.971551400Z"
    }
   },
   "outputs": [
    {
     "data": {
      "text/plain": "array([[ 72,  75,  77,  23,  48],\n       [ 87,  35,  74,  48,  47],\n       [ 30,  60,  83,  91,  18],\n       [ 46,  20,  34,  48,  95],\n       [ 21,  63,  45,  80,  39],\n       [ 95, 100,  25,   9,   5],\n       [ 48,  67,  22,   3,  82],\n       [ 64,   3,   2,  14,  31],\n       [ 64,  31,   2,  46,  53],\n       [  2,   8,  80,  15,  47],\n       [ 62,  40,  76,  81,  23],\n       [ 81,  80,  75,  94,  78],\n       [ 69,  86,  13,  21,  25],\n       [ 65,  60,  25,  59,  46],\n       [ 29,  71,  24,  30,  98],\n       [ 95,  72,  70,  11,  69],\n       [ 41,  59,  30,  12,  68],\n       [ 79,  38,  70,  66,  96],\n       [ 84,   9,  95,  77,  70],\n       [ 21,  11,  49,  18,  65]])"
     },
     "execution_count": 5,
     "metadata": {},
     "output_type": "execute_result"
    }
   ],
   "source": [
    "lst = []\n",
    "for i in range(1, 101):\n",
    "    a = r.randint(1, 101)\n",
    "    lst.append(a)\n",
    "ar = np.array(lst)\n",
    "ar.reshape(20, 5)\n",
    "# np.sum(lst)"
   ]
  },
  {
   "cell_type": "code",
   "execution_count": 8,
   "id": "e1ba420a7aa8831d",
   "metadata": {
    "collapsed": false,
    "ExecuteTime": {
     "end_time": "2024-01-20T09:30:31.326081100Z",
     "start_time": "2024-01-20T09:30:30.751669600Z"
    }
   },
   "outputs": [
    {
     "data": {
      "text/plain": "array([[ 1,  6, 11, 16, 21],\n       [26, 31, 36, 41, 46],\n       [51, 56, 61, 66, 71],\n       [76, 81, 86, 91, 96]])"
     },
     "execution_count": 8,
     "metadata": {},
     "output_type": "execute_result"
    }
   ],
   "source": [
    "a = np.arange(1, 100, 5).reshape(4, 5)\n",
    "a"
   ]
  },
  {
   "cell_type": "code",
   "execution_count": null,
   "outputs": [],
   "source": [],
   "metadata": {
    "collapsed": false
   },
   "id": "8d061740268fae36"
  }
 ],
 "metadata": {
  "kernelspec": {
   "display_name": "Python 3",
   "language": "python",
   "name": "python3"
  },
  "language_info": {
   "codemirror_mode": {
    "name": "ipython",
    "version": 2
   },
   "file_extension": ".py",
   "mimetype": "text/x-python",
   "name": "python",
   "nbconvert_exporter": "python",
   "pygments_lexer": "ipython2",
   "version": "3.12.0"
  }
 },
 "nbformat": 4,
 "nbformat_minor": 5
}
