{
 "cells": [
  {
   "cell_type": "markdown",
   "id": "f77f50af",
   "metadata": {},
   "source": [
    "# روش سنتی"
   ]
  },
  {
   "cell_type": "code",
   "execution_count": 1,
   "id": "6ce419c0",
   "metadata": {},
   "outputs": [
    {
     "name": "stdout",
     "output_type": "stream",
     "text": [
      "x is : 2\n",
      "y is : 3\n",
      "z is : 7\n"
     ]
    }
   ],
   "source": [
    "#فرمت دهی رشته ها با روش سنتی\n",
    "# استفاده از %i برای اینتیجر\n",
    "x = 2\n",
    "y = 3.6\n",
    "print(\"x is : %i\\ny is : %i\\nz is : %i\" % (x, y, 5+2))  # برای اینتینجر می توان از %d نیز استفاده کرد\n",
    "\n",
    "# بطور کلی قابل به شکل زیر است\n",
    "# [(key)] [flag] [w] [.p] type"
   ]
  },
  {
   "cell_type": "code",
   "execution_count": 2,
   "id": "37119ad6",
   "metadata": {},
   "outputs": [
    {
     "name": "stdout",
     "output_type": "stream",
     "text": [
      "A\n",
      "K\n",
      "Hello\n"
     ]
    }
   ],
   "source": [
    "# % [(key)] [flag] [w] [.p] type\n",
    "print(\"%c\" % ('A'))  # %c برای برگردانی کاراکتر است\n",
    "print(\"%c\" % (75))   # استفاده از یونیکد به جای کاراکتر\n",
    "print(\"%s\" % (\"Hello\")) # برای نمایش رشته\n",
    "\n",
    "# %i  نمایش اینتیجر\n",
    "# %d  نمایش اینتیجر\n",
    "# %c  نمایش کاراکتر\n",
    "# %s  نمایش رشته\n",
    "# %e  نمایش اعداد بصورت علمی\n",
    "# %f  نمایش اعداد اعشاری\n",
    "# %c  نمایش در مبانی 8\n",
    "# %x  نمایش در مبانی 16\n",
    "# %r  نمایش رشته ولی به شکلی خاص"
   ]
  },
  {
   "cell_type": "code",
   "execution_count": 3,
   "id": "b6836e7e",
   "metadata": {},
   "outputs": [
    {
     "name": "stdout",
     "output_type": "stream",
     "text": [
      "4321.12\n",
      "   4321.12\n",
      "  +4321.12\n",
      "+4321.12  \n",
      "0004321.12\n",
      "4321.123457 ----- 25\n"
     ]
    }
   ],
   "source": [
    "#مثال ها\n",
    "f = 4321.123456789\n",
    "print(\"%.2f\" % (f))  # تعداد اعشار\n",
    "print(\"%10.2f\" % (f))  # طول میدان\n",
    "print(\"%+10.2f\" % (f))  # نمایش علامت\n",
    "print(\"%-+10.2f\" % (f))  # تغییر مکان فضای خالی میدان\n",
    "print(\"%010.2f\" % (f))  # پر کردن فضای خالی میدان با صفر\n",
    "print(\"%(b)f ----- %(a)i\" % ({'a' : 25, 'b' : f}))  # استفاده از دیکشنری که می توان ترتیب را رعایت نکرد"
   ]
  },
  {
   "cell_type": "code",
   "execution_count": 4,
   "id": "7bca5e11",
   "metadata": {},
   "outputs": [
    {
     "name": "stdout",
     "output_type": "stream",
     "text": [
      "p : 3\n",
      "z : 20\n",
      "0000000000004321.123\n"
     ]
    }
   ],
   "source": [
    "# میتوان پارامتر های قالب بندی را از کاربر دریافت کرد\n",
    "f = 4321.123456789\n",
    "p = int(input(\"p : \"))\n",
    "z = int(input(\"z : \"))\n",
    "print(\"%0*.*f\" % (z, p , f))"
   ]
  },
  {
   "cell_type": "markdown",
   "id": "690f8477",
   "metadata": {},
   "source": [
    "# .format"
   ]
  },
  {
   "cell_type": "code",
   "execution_count": 5,
   "id": "41654aac",
   "metadata": {},
   "outputs": [
    {
     "name": "stdout",
     "output_type": "stream",
     "text": [
      "x is 4321.123456789\n",
      "y is 459876\n",
      "z is 12\n",
      "\n",
      "\n",
      "y is 459876\n",
      "x is 4321.123456789\n",
      "z is 12\n",
      "\n",
      "\n",
      "z is 12\n",
      "y is 459876\n",
      "x is 4321.123456789\n",
      "\n",
      "\n",
      "z is 12\n",
      "y is 459876\n",
      "x is 4321.123456789\n",
      "\n",
      "\n",
      "y is o\n",
      "x is r\n",
      "z is w\n",
      "\n",
      "\n",
      "y is 459876\n",
      "x is 4321.123456789\n",
      "z is 20\n",
      "\n",
      "\n"
     ]
    }
   ],
   "source": [
    "# فرمت دهی به خروجی با .format\n",
    "x = 4321.123456789\n",
    "y = 459876\n",
    "print(\"x is {}\\ny is {}\\nz is {}\\n\\n\" .format(x, y, 5 + 7))\n",
    "\n",
    "print(\"y is {1}\\nx is {2}\\nz is {0}\\n\\n\" .format(5 + 7, y, x)) # در این روش اگر ترتیب متغیر ها متفاوت است می توان ایندکس را داخل آکولات گذاشت\n",
    "# توجه شود که ایندکس گذاری در پایتون از صفر شروع می شود\n",
    "\n",
    "d = {'x':x, 'y':y, 'z':5+7}\n",
    "print(\"z is {z}\\ny is {y}\\nx is {x}\\n\\n\" .format(**d)) # می توان برای مشخص کردن ترتیب از دیکشنری استفاده کرد\n",
    "print(\"z is {z}\\ny is {y}\\nx is {x}\\n\\n\" .format(x = d['x'], y = d['y'], z = d['z'])) # شکل دیگری از استفاده از دیکشنری\n",
    "\n",
    "\n",
    "#استفاده از توالی ها\n",
    "print(\"y is {1}\\nx is {2}\\nz is {0}\\n\\n\" .format(*\"world\")) # با توجه به ایندکس استفاده از رشته\n",
    "print(\"y is {1}\\nx is {2}\\nz is {0}\\n\\n\" .format(*[z, y, x])) #استفاده از لیست"
   ]
  },
  {
   "cell_type": "raw",
   "id": "753a7447",
   "metadata": {},
   "source": [
    " شکل قالب خروجی با .format\n",
    " \n",
    " \"{\" [field_name] [\"!\" conversion] [\":\" format_spec] \"}\"\n",
    " filed_name= آدرس دهی   Conersion= تبدیل به فرمت جدید  format_spec= شکل فرمت\n",
    "\n",
    "بعد دو نقطه [[fill]بalign] [sign] [#] [0] [width] [grouping_option] [.precision] [type]\n",
    "[type] = c | s | % | e | d | i نداریم\n",
    "[.precision] = بعد . تعداد اعشار\n",
    "[grouping_option] = تمایز بین اعداد مثلا پول = , | _\n",
    "[width] = طول میدان\n",
    "[0] = پر کردن فاصله خالی میدان با صفر\n",
    "[#] = مبنا = #b | b | o | x = فقط برای اعداد\n",
    "[sign] + نمایش علامت  \n",
    "[align] = < ^ > جهت فاصله های میدان\n",
    "[fill] = فاصله طول میدان را به چی پر کند\n"
   ]
  },
  {
   "cell_type": "code",
   "execution_count": 6,
   "id": "c3d439c0",
   "metadata": {},
   "outputs": [
    {
     "name": "stdout",
     "output_type": "stream",
     "text": [
      "Hello 'world'\n",
      "10,164,932,056,947.14\n",
      "+000_987\n",
      "x is ..............12..............\n",
      "x is @@@@@@@@@@@@@@@@@@@@@@@@@@@@75\n"
     ]
    }
   ],
   "source": [
    "print(\"Hello {0!r:}\" .format(\"world\"))\n",
    "print(\"{0:,.2f}\" .format(10164932056947.1364896487))\n",
    "print(\"{0:+08_.0f}\" .format(987.321))\n",
    "print(\"x is {:.^30}\" .format(12))\n",
    "print(\"x is {:@{align}30{type}}\" .format(75, align='>', type='d')) # تعیین مقادیر فرمت در خارج از رشته پرینت"
   ]
  },
  {
   "cell_type": "markdown",
   "id": "c7c19a25",
   "metadata": {},
   "source": [
    "# روش f - string"
   ]
  },
  {
   "cell_type": "code",
   "execution_count": 7,
   "id": "b42fe3f1",
   "metadata": {},
   "outputs": [
    {
     "name": "stdout",
     "output_type": "stream",
     "text": [
      "x is 5\n",
      "y is 4.6353\n",
      "z is 25\n",
      "Hello 'world!'\n",
      "{x} is {5}\n"
     ]
    }
   ],
   "source": [
    "x = 5\n",
    "y = 4.6353\n",
    "print(f\"x is {x}\\ny is {y}\\nz is {5**2}\") # در این روش متغیر یا مقدارش را در آکولات گذاشته و فقط قبل رشته اِف می گذاریم\n",
    "# در این روش فرمت دهی در همان آکولات به شکل .format\n",
    "s = \"world!\"\n",
    "print(f\"Hello {s!r:}\")\n",
    "print(f\"{{x}} is {{{x}}}\")  # اگر می خواهیم آکولات هم چاپ شود. این مورد نیز به همین شکل در .format"
   ]
  },
  {
   "cell_type": "code",
   "execution_count": 8,
   "id": "9c3b5c8d",
   "metadata": {},
   "outputs": [
    {
     "name": "stdout",
     "output_type": "stream",
     "text": [
      "result: HELLO\n",
      "replace: hell!!!\n"
     ]
    }
   ],
   "source": [
    "# چاپ خروجی تابع\n",
    "def f(s):\n",
    "    return s.upper()\n",
    "    \n",
    "x = \"hello\"\n",
    "print(f\"result: {f(x)}\")\n",
    "print(f\"replace: {x.replace('o','!!!')}\")"
   ]
  },
  {
   "cell_type": "code",
   "execution_count": 9,
   "id": "6c2e03ae",
   "metadata": {},
   "outputs": [
    {
     "name": "stdout",
     "output_type": "stream",
     "text": [
      "Enter the Name: Salam\n",
      "Enter the Age: 25\n",
      "\n",
      "The name is: Salam\n",
      "The age is: 25\n"
     ]
    }
   ],
   "source": [
    "#مثال\n",
    "name = input(\"Enter the Name: \")\n",
    "age = int(input(\"Enter the Age: \"))\n",
    "\n",
    "msg = (\n",
    "    f\"\\nThe name is: {name}\\n\"\n",
    "    f\"The age is: {age}\"\n",
    ")\n",
    "\n",
    "print(msg)"
   ]
  },
  {
   "cell_type": "code",
   "execution_count": 10,
   "id": "2956254b",
   "metadata": {},
   "outputs": [
    {
     "name": "stdout",
     "output_type": "stream",
     "text": [
      "today is 2022/11\n"
     ]
    }
   ],
   "source": [
    "import datetime\n",
    "s = datetime.datetime.now()\n",
    "print(f\"today is {s:%Y/%m}\")"
   ]
  }
 ],
 "metadata": {
  "kernelspec": {
   "display_name": "Python 3 (ipykernel)",
   "language": "python",
   "name": "python3"
  },
  "language_info": {
   "codemirror_mode": {
    "name": "ipython",
    "version": 3
   },
   "file_extension": ".py",
   "mimetype": "text/x-python",
   "name": "python",
   "nbconvert_exporter": "python",
   "pygments_lexer": "ipython3",
   "version": "3.9.12"
  }
 },
 "nbformat": 4,
 "nbformat_minor": 5
}
